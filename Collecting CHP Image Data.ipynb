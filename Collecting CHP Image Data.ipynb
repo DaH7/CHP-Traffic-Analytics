{
 "cells": [
  {
   "cell_type": "code",
   "execution_count": 82,
   "id": "25355b12-1852-40a3-a40a-0f6e9505ef0d",
   "metadata": {},
   "outputs": [],
   "source": [
    "from configparser import ConfigParser\n",
    "import psycopg2.extras\n",
    "import pandas as pd"
   ]
  },
  {
   "cell_type": "code",
   "execution_count": 84,
   "id": "4271f113-16c2-4611-97e4-b8d0e146cc64",
   "metadata": {},
   "outputs": [],
   "source": [
    "#sign into database\n"
   ]
  },
  {
   "cell_type": "code",
   "execution_count": 95,
   "id": "33a46b09-2921-4cbc-a457-353505be0805",
   "metadata": {},
   "outputs": [
    {
     "name": "stdout",
     "output_type": "stream",
     "text": [
      "PostgreSQL database version:\n",
      "('PostgreSQL 16.3 on aarch64-unknown-linux-gnu, compiled by gcc (GCC) 7.3.1 20180712 (Red Hat 7.3.1-6), 64-bit',)\n"
     ]
    }
   ],
   "source": [
    "with conn.cursor() as cursor:\n",
    "        print('PostgreSQL database version:')\n",
    "        cursor.execute('SELECT version()')\n",
    "        # display the PostgreSQL database server version\n",
    "        db_version = cursor.fetchone()\n",
    "        print(db_version)\n",
    "        cursor.execute (\"select id, created_date as date from caltrans_cctv_archive order by date desc limit 3\")\n",
    "        list = cursor.fetchall()\n",
    "        df = pd.DataFrame(list, columns = [\"Id\",\"Date\"])"
   ]
  },
  {
   "cell_type": "code",
   "execution_count": 90,
   "id": "e9c9d1dd-9125-4360-865e-3c507a341dd8",
   "metadata": {},
   "outputs": [
    {
     "name": "stdout",
     "output_type": "stream",
     "text": [
      "https://api.traffic.labrador.dev/caltrans_cctv_archive/a4a6680d-37e9-11ef-ba23-0242ac110004\n",
      "https://api.traffic.labrador.dev/caltrans_cctv_archive/a48a3339-37e9-11ef-ba23-0242ac110004\n",
      "https://api.traffic.labrador.dev/caltrans_cctv_archive/5d5d75ad-37e9-11ef-ba23-0242ac110004\n"
     ]
    }
   ],
   "source": [
    "for index,row in df.iterrows():\n",
    "    test_string = \"https://api.traffic.labrador.dev/caltrans_cctv_archive/\" + row['Id']\n",
    "    print(test_string)"
   ]
  },
  {
   "cell_type": "code",
   "execution_count": 97,
   "id": "512071eb-c0ef-4b8a-929d-ab122d7e5826",
   "metadata": {},
   "outputs": [],
   "source": []
  },
  {
   "cell_type": "code",
   "execution_count": 80,
   "id": "e3a78f25-9975-47fb-9f96-75c3859ef23d",
   "metadata": {},
   "outputs": [],
   "source": []
  },
  {
   "cell_type": "code",
   "execution_count": null,
   "id": "0f4c2c57-eb02-4a20-843f-d12670a9acc1",
   "metadata": {},
   "outputs": [],
   "source": []
  }
 ],
 "metadata": {
  "kernelspec": {
   "display_name": "Python 3 (ipykernel)",
   "language": "python",
   "name": "python3"
  },
  "language_info": {
   "codemirror_mode": {
    "name": "ipython",
    "version": 3
   },
   "file_extension": ".py",
   "mimetype": "text/x-python",
   "name": "python",
   "nbconvert_exporter": "python",
   "pygments_lexer": "ipython3",
   "version": "3.11.7"
  }
 },
 "nbformat": 4,
 "nbformat_minor": 5
}
