{
 "cells": [
  {
   "cell_type": "code",
   "execution_count": 1,
   "id": "25355b12-1852-40a3-a40a-0f6e9505ef0d",
   "metadata": {},
   "outputs": [],
   "source": [
    "from configparser import ConfigParser\n",
    "import psycopg2.extras\n",
    "import pandas as pd\n",
    "import os\n",
    "import requests \n",
    "import zipfile"
   ]
  },
  {
   "cell_type": "code",
   "execution_count": 2,
   "id": "4271f113-16c2-4611-97e4-b8d0e146cc64",
   "metadata": {},
   "outputs": [],
   "source": [
    "#sign into database\n"
   ]
  },
  {
   "cell_type": "code",
   "execution_count": 5,
   "id": "33a46b09-2921-4cbc-a457-353505be0805",
   "metadata": {},
   "outputs": [
    {
     "name": "stdout",
     "output_type": "stream",
     "text": [
      "PostgreSQL database version:\n",
      "('PostgreSQL 16.3 on aarch64-unknown-linux-gnu, compiled by gcc (GCC) 7.3.1 20180712 (Red Hat 7.3.1-6), 64-bit',)\n"
     ]
    }
   ],
   "source": [
    "with conn.cursor() as cursor:\n",
    "        print('PostgreSQL database version:')\n",
    "        cursor.execute('SELECT version()')\n",
    "        # display the PostgreSQL database server version\n",
    "        db_version = cursor.fetchone()\n",
    "        print(db_version)\n",
    "        cursor.execute (\"select id, created_date as date from caltrans_cctv_archive order by date asc limit 100\")\n",
    "        list = cursor.fetchall()\n",
    "        df = pd.DataFrame(list, columns = [\"Id\",\"Date\"])"
   ]
  },
  {
   "cell_type": "code",
   "execution_count": 6,
   "id": "e9c9d1dd-9125-4360-865e-3c507a341dd8",
   "metadata": {},
   "outputs": [],
   "source": [
    "for index,row in df.iterrows():\n",
    "    \n",
    "    #url to get cctv image data\n",
    "    test_string = \"https://api.traffic.labrador.dev/caltrans_cctv_archive/\" + row['Id'] \n",
    "    \n",
    "    #converting  file name to zip\n",
    "    file_name = row['Id'] + \".zip\" \n",
    "    \n",
    "    #save path to folder\n",
    "    save_path = os.getcwd() + \"\\\\unlabeled_data\" + \"/\" + file_name\n",
    "\n",
    "    #download function\n",
    "    def download_url(url, save_path, chunk_size=128):\n",
    "        r = requests.get(url, stream=True)\n",
    "        with open(save_path, 'wb') as fd:\n",
    "            for chunk in r.iter_content(chunk_size=chunk_size):\n",
    "                fd.write(chunk)\n",
    "    \n",
    "    download_url(test_string,save_path)\n",
    "\n",
    "    # unzip the file\n",
    "    with zipfile.ZipFile(save_path, 'r') as zip_ref:\n",
    "        zip_ref.extractall(os.path.join(os.getcwd(), \"unlabeled_data\", row['Id']))\n",
    "\n",
    "    # delete the zip file after extraction\n",
    "    os.remove(save_path)\n",
    "    "
   ]
  },
  {
   "cell_type": "code",
   "execution_count": null,
   "id": "ecb4886f-ed76-4049-8184-d8e3db80e159",
   "metadata": {},
   "outputs": [],
   "source": []
  }
 ],
 "metadata": {
  "kernelspec": {
   "display_name": "Python 3 (ipykernel)",
   "language": "python",
   "name": "python3"
  },
  "language_info": {
   "codemirror_mode": {
    "name": "ipython",
    "version": 3
   },
   "file_extension": ".py",
   "mimetype": "text/x-python",
   "name": "python",
   "nbconvert_exporter": "python",
   "pygments_lexer": "ipython3",
   "version": "3.12.3"
  }
 },
 "nbformat": 4,
 "nbformat_minor": 5
}
