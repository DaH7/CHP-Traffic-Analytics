{
 "cells": [
  {
   "cell_type": "code",
   "execution_count": 37,
   "id": "71d67a41-50c5-4060-a754-5bfc704d189e",
   "metadata": {},
   "outputs": [],
   "source": [
    "import psycopg2.extras\n",
    "import pytz\n",
    "from configparser import ConfigParser\n",
    "import matplotlib.pyplot as plt\n",
    "import numpy as np\n",
    "from datetime import datetime\n",
    "import numpy as np\n",
    "import pandas as pd\n",
    "import matplotlib.pyplot as plt\n",
    "import plotly.express as px\n",
    "import plotly.graph_objects as go\n",
    "import plotly.io as pio\n",
    "import seaborn as sns\n",
    "import mpld3\n",
    "import kaleido"
   ]
  },
  {
   "cell_type": "code",
   "execution_count": 38,
   "id": "e7bdb328-647e-464f-8324-32f7e46c8e58",
   "metadata": {},
   "outputs": [],
   "source": [
    "#sign into database\n"
   ]
  },
  {
   "cell_type": "code",
   "execution_count": 39,
   "id": "bf554bf4-d510-4d0c-9446-2d229d8649bc",
   "metadata": {},
   "outputs": [],
   "source": [
    "#log_area dataframe \n",
    "def log_area_df(case,month_num):\n",
    "    with conn.cursor() as cursor:\n",
    "        print('PostgreSQL database version:')\n",
    "        cursor.execute('SELECT version()')\n",
    "        # display the PostgreSQL database server version\n",
    "        db_version = cursor.fetchone()\n",
    "        print(db_version)\n",
    "        #executes the sql query (2 situation, case 1 -> exact month, else all months before x\n",
    "        if case == 1:\n",
    "            cursor.execute (\"select log_area, count(*) as log_area_count from chp_incident Where log_type not like %s and coordinates != '(0,0)' and extract('month' from log_time) = %s Group by log_area Order by log_area_count desc\",('%Advisory%',month_num))\n",
    "        else:\n",
    "            cursor.execute (\"select log_area, count(*) as log_area_count from chp_incident Where log_type not like %s and coordinates != '(0,0)' and extract('month' from log_time) < %s Group by log_area Order by log_area_count desc\",('%Advisory%',month_num))\n",
    "        #fetches the query\n",
    "        log_area_list = cursor.fetchall()\n",
    "\n",
    "        #put list into a df \n",
    "        log_area_list = pd.DataFrame(log_area_list, columns = ['log_area','log_area_count'])                  \n",
    "        df_log_area  = log_area_list\n",
    "        return df_log_area\n",
    "\n",
    "#creating single bar graph\n",
    "def single_bar(df,title):\n",
    "    def addlabels(x,y):\n",
    "        for i in range(len(x)):\n",
    "            plt.text(i, y[i], y[i], ha = 'center')\n",
    "     \n",
    "    if __name__ == '__main__':\n",
    "       \n",
    "        # creating data on which bar chart will be plot\n",
    "        x4 = df.log_area.head(10)\n",
    "        y4 = df.log_area_count.head(10)\n",
    "         \n",
    "        # setting figure size by using figure() function \n",
    "        plt.figure(figsize = (18, 10))\n",
    "         \n",
    "        # making the bar chart on the data\n",
    "        plt.bar(x4, y4, color ='pink')\n",
    "         \n",
    "        # calling the function to add value labels\n",
    "        addlabels(x4, y4)\n",
    "         \n",
    "        # giving title to the plot\n",
    "        plt.title(title)\n",
    "    \n",
    "        # giving X and Y labels\n",
    "        plt.xlabel(\"Reported Areas\")\n",
    "        plt.ylabel(\"Frequency\")\n",
    "    \n",
    "        #saves the figure  \n",
    "        bar_fig = plt.gcf()\n",
    "        bar_fig.savefig('Top 10 Highest Incident Areas from January to June 2024.png', dpi=100)\n",
    "        \n",
    "        # visualizing the plot\n",
    "        plt.show()\n"
   ]
  },
  {
   "cell_type": "code",
   "execution_count": 40,
   "id": "1856a194-a7e4-4f49-aa10-0c344b5d76e9",
   "metadata": {},
   "outputs": [],
   "source": [
    "def top_10_month(df,month):\n",
    "    head = df.log_area.head(10)\n",
    "    count = df.log_area_count.head(10)\n",
    "    month_df = np.full(10,month)\n",
    "    return head, count, month_df"
   ]
  },
  {
   "cell_type": "code",
   "execution_count": 41,
   "id": "fbacc274-e7da-47b4-b613-df962f5cc4ff",
   "metadata": {},
   "outputs": [
    {
     "name": "stdout",
     "output_type": "stream",
     "text": [
      "PostgreSQL database version:\n",
      "('PostgreSQL 16.3 on aarch64-unknown-linux-gnu, compiled by gcc (GCC) 7.3.1 20180712 (Red Hat 7.3.1-6), 64-bit',)\n",
      "PostgreSQL database version:\n",
      "('PostgreSQL 16.3 on aarch64-unknown-linux-gnu, compiled by gcc (GCC) 7.3.1 20180712 (Red Hat 7.3.1-6), 64-bit',)\n",
      "PostgreSQL database version:\n",
      "('PostgreSQL 16.3 on aarch64-unknown-linux-gnu, compiled by gcc (GCC) 7.3.1 20180712 (Red Hat 7.3.1-6), 64-bit',)\n",
      "PostgreSQL database version:\n",
      "('PostgreSQL 16.3 on aarch64-unknown-linux-gnu, compiled by gcc (GCC) 7.3.1 20180712 (Red Hat 7.3.1-6), 64-bit',)\n",
      "PostgreSQL database version:\n",
      "('PostgreSQL 16.3 on aarch64-unknown-linux-gnu, compiled by gcc (GCC) 7.3.1 20180712 (Red Hat 7.3.1-6), 64-bit',)\n",
      "PostgreSQL database version:\n",
      "('PostgreSQL 16.3 on aarch64-unknown-linux-gnu, compiled by gcc (GCC) 7.3.1 20180712 (Red Hat 7.3.1-6), 64-bit',)\n"
     ]
    }
   ],
   "source": [
    "jan_head,jan_count,jan_month = top_10_month(log_area_df(1,1),\"January\")\n",
    "feb_head,feb_count,feb_month = top_10_month(log_area_df(1,2),\"February\")\n",
    "mar_head,mar_count,mar_month = top_10_month(log_area_df(1,3),\"March\")\n",
    "apr_head,apr_count,apr_month = top_10_month(log_area_df(1,4),\"April\")\n",
    "may_head,may_count,may_month = top_10_month(log_area_df(1,5),\"May\")\n",
    "jun_head,jun_count,jun_month = top_10_month(log_area_df(1,6),\"June\")"
   ]
  },
  {
   "cell_type": "code",
   "execution_count": 42,
   "id": "6156e1bb-346e-44f8-870d-837afb6024be",
   "metadata": {},
   "outputs": [],
   "source": [
    "top_10_df = pd.DataFrame({\n",
    "    \"Log Area\": np.concatenate((jan_head,feb_head,mar_head,apr_head,may_head,jun_head)),\n",
    "    \"Count\": np.concatenate((jan_count,feb_count,mar_count,apr_count,may_count,jun_count)),\n",
    "    \"Month\": np.concatenate((jan_month,feb_month,mar_month,apr_month,may_month,jun_month))\n",
    "})\n",
    "           "
   ]
  },
  {
   "cell_type": "code",
   "execution_count": 43,
   "id": "e9d765c7-37f8-4b11-941a-94ef4ac11986",
   "metadata": {},
   "outputs": [
    {
     "data": {
      "image/png": "[encoded data removed]",
      "text/plain": [
       "<Figure size 1311.75x800 with 1 Axes>"
      ]
     },
     "metadata": {},
     "output_type": "display_data"
    }
   ],
   "source": [
    "# Draw a grouped barplot\n",
    "\n",
    "# Set the size of the plot\n",
    "\n",
    "\n",
    "g = sns.catplot(\n",
    "    data = top_10_df, \n",
    "    kind=\"bar\",\n",
    "    x=\"Log Area\", \n",
    "    y=\"Count\", \n",
    "    hue=\"Month\",\n",
    "    height=8,  # Height in inches\n",
    "    aspect=1.5  # Aspect ratio, width = height * aspect\n",
    "\n",
    ")\n",
    "\n",
    "\n",
    "\n",
    "# Rotate x-axis labels\n",
    "plt.xticks(rotation=90)\n",
    "\n",
    "# Adjust font size\n",
    "plt.xticks(fontsize=10)\n",
    "\n",
    "\n",
    "plt.title(\"Monthly Breakdown of Highest Incident Areas\")\n",
    "g.set_axis_labels(\"Reported Areas\", \"Count\")\n",
    "\n",
    "\n",
    "# Save the combined plot\n",
    "plt.savefig('grouped_bar_plot.png', bbox_inches='tight')\n"
   ]
  },
  {
   "cell_type": "code",
   "execution_count": 44,
   "id": "2320dbd4-eae8-4a11-9e0e-0e93a32656f1",
   "metadata": {},
   "outputs": [
    {
     "name": "stdout",
     "output_type": "stream",
     "text": [
      "PostgreSQL database version:\n"
     ]
    }
   ],
   "source": [
    "with conn.cursor() as cursor:\n",
    "        print('PostgreSQL database version:')\n",
    "        cursor.execute('SELECT version()')\n",
    "        # display the PostgreSQL database server version\n",
    "        db_version = cursor.fetchone()\n",
    "        cursor.execute(\"select log_area , count(*) as log_area_count, extract(month from log_time) as month_2024 from chp_incident where log_area is not null and log_type not like '%Advisory%' and coordinates != '(0,0)' and extract(year from log_time) = 2024 and extract(month from log_time) < 7 and log_area in('LAFSP', 'San Diego','Central LA', 'Riverside', 'Santa Ana', 'South LA', 'Baldwin Park', 'Santa Fe Springs', 'San Jose', 'East LA' ) group by month_2024,log_area order by log_area_count desc\")\n",
    "        list = cursor.fetchall()\n",
    "\n",
    "df = pd.DataFrame(list, columns = ['Reported Areas','Frequency','Month of 2024'])  "
   ]
  },
  {
   "cell_type": "code",
   "execution_count": 45,
   "id": "d3d63eec-e1ed-44bf-966b-e7b0b6ac22ff",
   "metadata": {},
   "outputs": [
    {
     "data": {
      "text/html": [
       "<div>\n",
       "<style scoped>\n",
       "    .dataframe tbody tr th:only-of-type {\n",
       "        vertical-align: middle;\n",
       "    }\n",
       "\n",
       "    .dataframe tbody tr th {\n",
       "        vertical-align: top;\n",
       "    }\n",
       "\n",
       "    .dataframe thead th {\n",
       "        text-align: right;\n",
       "    }\n",
       "</style>\n",
       "<table border=\"1\" class=\"dataframe\">\n",
       "  <thead>\n",
       "    <tr style=\"text-align: right;\">\n",
       "      <th></th>\n",
       "      <th>Reported Areas</th>\n",
       "      <th>Frequency</th>\n",
       "      <th>Month of 2024</th>\n",
       "    </tr>\n",
       "  </thead>\n",
       "  <tbody>\n",
       "    <tr>\n",
       "      <th>0</th>\n",
       "      <td>LAFSP</td>\n",
       "      <td>3220</td>\n",
       "      <td>January</td>\n",
       "    </tr>\n",
       "    <tr>\n",
       "      <th>1</th>\n",
       "      <td>San Diego</td>\n",
       "      <td>3115</td>\n",
       "      <td>June</td>\n",
       "    </tr>\n",
       "    <tr>\n",
       "      <th>2</th>\n",
       "      <td>LAFSP</td>\n",
       "      <td>3074</td>\n",
       "      <td>March</td>\n",
       "    </tr>\n",
       "    <tr>\n",
       "      <th>3</th>\n",
       "      <td>San Diego</td>\n",
       "      <td>3064</td>\n",
       "      <td>March</td>\n",
       "    </tr>\n",
       "    <tr>\n",
       "      <th>4</th>\n",
       "      <td>LAFSP</td>\n",
       "      <td>3053</td>\n",
       "      <td>February</td>\n",
       "    </tr>\n",
       "    <tr>\n",
       "      <th>5</th>\n",
       "      <td>San Diego</td>\n",
       "      <td>3022</td>\n",
       "      <td>January</td>\n",
       "    </tr>\n",
       "    <tr>\n",
       "      <th>6</th>\n",
       "      <td>LAFSP</td>\n",
       "      <td>3017</td>\n",
       "      <td>May</td>\n",
       "    </tr>\n",
       "    <tr>\n",
       "      <th>7</th>\n",
       "      <td>LAFSP</td>\n",
       "      <td>3017</td>\n",
       "      <td>June</td>\n",
       "    </tr>\n",
       "    <tr>\n",
       "      <th>8</th>\n",
       "      <td>LAFSP</td>\n",
       "      <td>2877</td>\n",
       "      <td>April</td>\n",
       "    </tr>\n",
       "    <tr>\n",
       "      <th>9</th>\n",
       "      <td>San Diego</td>\n",
       "      <td>2867</td>\n",
       "      <td>May</td>\n",
       "    </tr>\n",
       "    <tr>\n",
       "      <th>10</th>\n",
       "      <td>San Diego</td>\n",
       "      <td>2731</td>\n",
       "      <td>February</td>\n",
       "    </tr>\n",
       "    <tr>\n",
       "      <th>11</th>\n",
       "      <td>San Diego</td>\n",
       "      <td>2684</td>\n",
       "      <td>April</td>\n",
       "    </tr>\n",
       "    <tr>\n",
       "      <th>12</th>\n",
       "      <td>Central LA</td>\n",
       "      <td>2645</td>\n",
       "      <td>June</td>\n",
       "    </tr>\n",
       "    <tr>\n",
       "      <th>13</th>\n",
       "      <td>Central LA</td>\n",
       "      <td>2514</td>\n",
       "      <td>March</td>\n",
       "    </tr>\n",
       "    <tr>\n",
       "      <th>14</th>\n",
       "      <td>Central LA</td>\n",
       "      <td>2492</td>\n",
       "      <td>May</td>\n",
       "    </tr>\n",
       "    <tr>\n",
       "      <th>15</th>\n",
       "      <td>Central LA</td>\n",
       "      <td>2485</td>\n",
       "      <td>January</td>\n",
       "    </tr>\n",
       "    <tr>\n",
       "      <th>16</th>\n",
       "      <td>Riverside</td>\n",
       "      <td>2425</td>\n",
       "      <td>June</td>\n",
       "    </tr>\n",
       "    <tr>\n",
       "      <th>17</th>\n",
       "      <td>Riverside</td>\n",
       "      <td>2411</td>\n",
       "      <td>May</td>\n",
       "    </tr>\n",
       "    <tr>\n",
       "      <th>18</th>\n",
       "      <td>Riverside</td>\n",
       "      <td>2395</td>\n",
       "      <td>March</td>\n",
       "    </tr>\n",
       "    <tr>\n",
       "      <th>19</th>\n",
       "      <td>Central LA</td>\n",
       "      <td>2366</td>\n",
       "      <td>February</td>\n",
       "    </tr>\n",
       "    <tr>\n",
       "      <th>20</th>\n",
       "      <td>South LA</td>\n",
       "      <td>2350</td>\n",
       "      <td>June</td>\n",
       "    </tr>\n",
       "    <tr>\n",
       "      <th>21</th>\n",
       "      <td>Santa Ana</td>\n",
       "      <td>2341</td>\n",
       "      <td>June</td>\n",
       "    </tr>\n",
       "    <tr>\n",
       "      <th>22</th>\n",
       "      <td>Santa Ana</td>\n",
       "      <td>2298</td>\n",
       "      <td>March</td>\n",
       "    </tr>\n",
       "    <tr>\n",
       "      <th>23</th>\n",
       "      <td>South LA</td>\n",
       "      <td>2297</td>\n",
       "      <td>March</td>\n",
       "    </tr>\n",
       "    <tr>\n",
       "      <th>24</th>\n",
       "      <td>South LA</td>\n",
       "      <td>2294</td>\n",
       "      <td>May</td>\n",
       "    </tr>\n",
       "    <tr>\n",
       "      <th>25</th>\n",
       "      <td>Santa Ana</td>\n",
       "      <td>2279</td>\n",
       "      <td>January</td>\n",
       "    </tr>\n",
       "    <tr>\n",
       "      <th>26</th>\n",
       "      <td>South LA</td>\n",
       "      <td>2263</td>\n",
       "      <td>January</td>\n",
       "    </tr>\n",
       "    <tr>\n",
       "      <th>27</th>\n",
       "      <td>Santa Ana</td>\n",
       "      <td>2252</td>\n",
       "      <td>February</td>\n",
       "    </tr>\n",
       "    <tr>\n",
       "      <th>28</th>\n",
       "      <td>Santa Ana</td>\n",
       "      <td>2251</td>\n",
       "      <td>May</td>\n",
       "    </tr>\n",
       "    <tr>\n",
       "      <th>29</th>\n",
       "      <td>Riverside</td>\n",
       "      <td>2174</td>\n",
       "      <td>January</td>\n",
       "    </tr>\n",
       "    <tr>\n",
       "      <th>30</th>\n",
       "      <td>Baldwin Park</td>\n",
       "      <td>2151</td>\n",
       "      <td>February</td>\n",
       "    </tr>\n",
       "    <tr>\n",
       "      <th>31</th>\n",
       "      <td>South LA</td>\n",
       "      <td>2149</td>\n",
       "      <td>February</td>\n",
       "    </tr>\n",
       "    <tr>\n",
       "      <th>32</th>\n",
       "      <td>Riverside</td>\n",
       "      <td>2139</td>\n",
       "      <td>February</td>\n",
       "    </tr>\n",
       "    <tr>\n",
       "      <th>33</th>\n",
       "      <td>Baldwin Park</td>\n",
       "      <td>2113</td>\n",
       "      <td>June</td>\n",
       "    </tr>\n",
       "    <tr>\n",
       "      <th>34</th>\n",
       "      <td>Riverside</td>\n",
       "      <td>2068</td>\n",
       "      <td>April</td>\n",
       "    </tr>\n",
       "    <tr>\n",
       "      <th>35</th>\n",
       "      <td>Baldwin Park</td>\n",
       "      <td>2048</td>\n",
       "      <td>May</td>\n",
       "    </tr>\n",
       "    <tr>\n",
       "      <th>36</th>\n",
       "      <td>Central LA</td>\n",
       "      <td>2043</td>\n",
       "      <td>April</td>\n",
       "    </tr>\n",
       "    <tr>\n",
       "      <th>37</th>\n",
       "      <td>Baldwin Park</td>\n",
       "      <td>2035</td>\n",
       "      <td>March</td>\n",
       "    </tr>\n",
       "    <tr>\n",
       "      <th>38</th>\n",
       "      <td>Santa Fe Springs</td>\n",
       "      <td>1962</td>\n",
       "      <td>June</td>\n",
       "    </tr>\n",
       "    <tr>\n",
       "      <th>39</th>\n",
       "      <td>Baldwin Park</td>\n",
       "      <td>1920</td>\n",
       "      <td>January</td>\n",
       "    </tr>\n",
       "    <tr>\n",
       "      <th>40</th>\n",
       "      <td>South LA</td>\n",
       "      <td>1889</td>\n",
       "      <td>April</td>\n",
       "    </tr>\n",
       "    <tr>\n",
       "      <th>41</th>\n",
       "      <td>San Jose</td>\n",
       "      <td>1859</td>\n",
       "      <td>May</td>\n",
       "    </tr>\n",
       "    <tr>\n",
       "      <th>42</th>\n",
       "      <td>Santa Fe Springs</td>\n",
       "      <td>1850</td>\n",
       "      <td>January</td>\n",
       "    </tr>\n",
       "    <tr>\n",
       "      <th>43</th>\n",
       "      <td>San Jose</td>\n",
       "      <td>1849</td>\n",
       "      <td>January</td>\n",
       "    </tr>\n",
       "    <tr>\n",
       "      <th>44</th>\n",
       "      <td>San Jose</td>\n",
       "      <td>1839</td>\n",
       "      <td>February</td>\n",
       "    </tr>\n",
       "    <tr>\n",
       "      <th>45</th>\n",
       "      <td>Santa Ana</td>\n",
       "      <td>1839</td>\n",
       "      <td>April</td>\n",
       "    </tr>\n",
       "    <tr>\n",
       "      <th>46</th>\n",
       "      <td>East LA</td>\n",
       "      <td>1830</td>\n",
       "      <td>June</td>\n",
       "    </tr>\n",
       "    <tr>\n",
       "      <th>47</th>\n",
       "      <td>East LA</td>\n",
       "      <td>1829</td>\n",
       "      <td>May</td>\n",
       "    </tr>\n",
       "    <tr>\n",
       "      <th>48</th>\n",
       "      <td>Santa Fe Springs</td>\n",
       "      <td>1817</td>\n",
       "      <td>March</td>\n",
       "    </tr>\n",
       "    <tr>\n",
       "      <th>49</th>\n",
       "      <td>East LA</td>\n",
       "      <td>1797</td>\n",
       "      <td>March</td>\n",
       "    </tr>\n",
       "    <tr>\n",
       "      <th>50</th>\n",
       "      <td>Santa Fe Springs</td>\n",
       "      <td>1791</td>\n",
       "      <td>May</td>\n",
       "    </tr>\n",
       "    <tr>\n",
       "      <th>51</th>\n",
       "      <td>East LA</td>\n",
       "      <td>1771</td>\n",
       "      <td>January</td>\n",
       "    </tr>\n",
       "    <tr>\n",
       "      <th>52</th>\n",
       "      <td>San Jose</td>\n",
       "      <td>1756</td>\n",
       "      <td>March</td>\n",
       "    </tr>\n",
       "    <tr>\n",
       "      <th>53</th>\n",
       "      <td>San Jose</td>\n",
       "      <td>1729</td>\n",
       "      <td>June</td>\n",
       "    </tr>\n",
       "    <tr>\n",
       "      <th>54</th>\n",
       "      <td>Baldwin Park</td>\n",
       "      <td>1727</td>\n",
       "      <td>April</td>\n",
       "    </tr>\n",
       "    <tr>\n",
       "      <th>55</th>\n",
       "      <td>Santa Fe Springs</td>\n",
       "      <td>1686</td>\n",
       "      <td>February</td>\n",
       "    </tr>\n",
       "    <tr>\n",
       "      <th>56</th>\n",
       "      <td>Santa Fe Springs</td>\n",
       "      <td>1569</td>\n",
       "      <td>April</td>\n",
       "    </tr>\n",
       "    <tr>\n",
       "      <th>57</th>\n",
       "      <td>San Jose</td>\n",
       "      <td>1557</td>\n",
       "      <td>April</td>\n",
       "    </tr>\n",
       "    <tr>\n",
       "      <th>58</th>\n",
       "      <td>East LA</td>\n",
       "      <td>1544</td>\n",
       "      <td>February</td>\n",
       "    </tr>\n",
       "    <tr>\n",
       "      <th>59</th>\n",
       "      <td>East LA</td>\n",
       "      <td>1451</td>\n",
       "      <td>April</td>\n",
       "    </tr>\n",
       "  </tbody>\n",
       "</table>\n",
       "</div>"
      ],
      "text/plain": [
       "      Reported Areas  Frequency Month of 2024\n",
       "0              LAFSP       3220       January\n",
       "1          San Diego       3115          June\n",
       "2              LAFSP       3074         March\n",
       "3          San Diego       3064         March\n",
       "4              LAFSP       3053      February\n",
       "5          San Diego       3022       January\n",
       "6              LAFSP       3017           May\n",
       "7              LAFSP       3017          June\n",
       "8              LAFSP       2877         April\n",
       "9          San Diego       2867           May\n",
       "10         San Diego       2731      February\n",
       "11         San Diego       2684         April\n",
       "12        Central LA       2645          June\n",
       "13        Central LA       2514         March\n",
       "14        Central LA       2492           May\n",
       "15        Central LA       2485       January\n",
       "16         Riverside       2425          June\n",
       "17         Riverside       2411           May\n",
       "18         Riverside       2395         March\n",
       "19        Central LA       2366      February\n",
       "20          South LA       2350          June\n",
       "21         Santa Ana       2341          June\n",
       "22         Santa Ana       2298         March\n",
       "23          South LA       2297         March\n",
       "24          South LA       2294           May\n",
       "25         Santa Ana       2279       January\n",
       "26          South LA       2263       January\n",
       "27         Santa Ana       2252      February\n",
       "28         Santa Ana       2251           May\n",
       "29         Riverside       2174       January\n",
       "30      Baldwin Park       2151      February\n",
       "31          South LA       2149      February\n",
       "32         Riverside       2139      February\n",
       "33      Baldwin Park       2113          June\n",
       "34         Riverside       2068         April\n",
       "35      Baldwin Park       2048           May\n",
       "36        Central LA       2043         April\n",
       "37      Baldwin Park       2035         March\n",
       "38  Santa Fe Springs       1962          June\n",
       "39      Baldwin Park       1920       January\n",
       "40          South LA       1889         April\n",
       "41          San Jose       1859           May\n",
       "42  Santa Fe Springs       1850       January\n",
       "43          San Jose       1849       January\n",
       "44          San Jose       1839      February\n",
       "45         Santa Ana       1839         April\n",
       "46           East LA       1830          June\n",
       "47           East LA       1829           May\n",
       "48  Santa Fe Springs       1817         March\n",
       "49           East LA       1797         March\n",
       "50  Santa Fe Springs       1791           May\n",
       "51           East LA       1771       January\n",
       "52          San Jose       1756         March\n",
       "53          San Jose       1729          June\n",
       "54      Baldwin Park       1727         April\n",
       "55  Santa Fe Springs       1686      February\n",
       "56  Santa Fe Springs       1569         April\n",
       "57          San Jose       1557         April\n",
       "58           East LA       1544      February\n",
       "59           East LA       1451         April"
      ]
     },
     "execution_count": 45,
     "metadata": {},
     "output_type": "execute_result"
    }
   ],
   "source": [
    "#replacing numeric months with names\n",
    "df.loc[df[\"Month of 2024\"] == 1, \"Month of 2024\"] = \"January\"\n",
    "df.loc[df[\"Month of 2024\"] == 2, \"Month of 2024\"] = \"February\"\n",
    "df.loc[df[\"Month of 2024\"] == 3, \"Month of 2024\"] = \"March\"\n",
    "df.loc[df[\"Month of 2024\"] == 4, \"Month of 2024\"] = \"April\"\n",
    "df.loc[df[\"Month of 2024\"] == 5, \"Month of 2024\"] = \"May\"\n",
    "df.loc[df[\"Month of 2024\"] == 6, \"Month of 2024\"] = \"June\"\n",
    "df"
   ]
  },
  {
   "cell_type": "code",
   "execution_count": 46,
   "id": "78049cd3-1d83-49cc-b0b8-e6d4ec46577f",
   "metadata": {},
   "outputs": [
    {
     "name": "stdout",
     "output_type": "stream",
     "text": [
      "PostgreSQL database version:\n",
      "('PostgreSQL 16.3 on aarch64-unknown-linux-gnu, compiled by gcc (GCC) 7.3.1 20180712 (Red Hat 7.3.1-6), 64-bit',)\n"
     ]
    },
    {
     "data": {
      "image/png": "[encoded data removed]",
      "text/plain": [
       "<Figure size 1800x1000 with 1 Axes>"
      ]
     },
     "metadata": {},
     "output_type": "display_data"
    }
   ],
   "source": [
    "single_bar(log_area_df(2,7),\"Top 10 Highest Incident Areas from January to June 2024\")"
   ]
  },
  {
   "cell_type": "code",
   "execution_count": 48,
   "id": "ba850444-cbcc-4a43-b947-9597316a641b",
   "metadata": {},
   "outputs": [
    {
     "data": {
      "application/vnd.plotly.v1+json": {
       "config": {
        "plotlyServerURL": "https://plot.ly"
       },
       "data": [
        {
         "alignmentgroup": "True",
         "hovertemplate": "Month of 2024=January<br>Reported Areas=%{x}<br>Frequency=%{text}<extra></extra>",
         "legendgroup": "January",
         "marker": {
          "color": "#636efa",
          "pattern": {
           "shape": ""
          }
         },
         "name": "January",
         "offsetgroup": "January",
         "orientation": "v",
         "showlegend": true,
         "text": [
          3220,
          3022,
          2485,
          2279,
          2263,
          2174,
          1920,
          1850,
          1849,
          1771
         ],
         "textposition": "auto",
         "type": "bar",
         "x": [
          "LAFSP",
          "San Diego",
          "Central LA",
          "Santa Ana",
          "South LA",
          "Riverside",
          "Baldwin Park",
          "Santa Fe Springs",
          "San Jose",
          "East LA"
         ],
         "xaxis": "x",
         "y": [
          3220,
          3022,
          2485,
          2279,
          2263,
          2174,
          1920,
          1850,
          1849,
          1771
         ],
         "yaxis": "y"
        },
        {
         "alignmentgroup": "True",
         "hovertemplate": "Month of 2024=February<br>Reported Areas=%{x}<br>Frequency=%{text}<extra></extra>",
         "legendgroup": "February",
         "marker": {
          "color": "#EF553B",
          "pattern": {
           "shape": ""
          }
         },
         "name": "February",
         "offsetgroup": "February",
         "orientation": "v",
         "showlegend": true,
         "text": [
          3053,
          2731,
          2366,
          2252,
          2151,
          2149,
          2139,
          1839,
          1686,
          1544
         ],
         "textposition": "auto",
         "type": "bar",
         "x": [
          "LAFSP",
          "San Diego",
          "Central LA",
          "Santa Ana",
          "Baldwin Park",
          "South LA",
          "Riverside",
          "San Jose",
          "Santa Fe Springs",
          "East LA"
         ],
         "xaxis": "x",
         "y": [
          3053,
          2731,
          2366,
          2252,
          2151,
          2149,
          2139,
          1839,
          1686,
          1544
         ],
         "yaxis": "y"
        },
        {
         "alignmentgroup": "True",
         "hovertemplate": "Month of 2024=March<br>Reported Areas=%{x}<br>Frequency=%{text}<extra></extra>",
         "legendgroup": "March",
         "marker": {
          "color": "#00cc96",
          "pattern": {
           "shape": ""
          }
         },
         "name": "March",
         "offsetgroup": "March",
         "orientation": "v",
         "showlegend": true,
         "text": [
          3074,
          3064,
          2514,
          2395,
          2298,
          2297,
          2035,
          1817,
          1797,
          1756
         ],
         "textposition": "auto",
         "type": "bar",
         "x": [
          "LAFSP",
          "San Diego",
          "Central LA",
          "Riverside",
          "Santa Ana",
          "South LA",
          "Baldwin Park",
          "Santa Fe Springs",
          "East LA",
          "San Jose"
         ],
         "xaxis": "x",
         "y": [
          3074,
          3064,
          2514,
          2395,
          2298,
          2297,
          2035,
          1817,
          1797,
          1756
         ],
         "yaxis": "y"
        },
        {
         "alignmentgroup": "True",
         "hovertemplate": "Month of 2024=April<br>Reported Areas=%{x}<br>Frequency=%{text}<extra></extra>",
         "legendgroup": "April",
         "marker": {
          "color": "#ab63fa",
          "pattern": {
           "shape": ""
          }
         },
         "name": "April",
         "offsetgroup": "April",
         "orientation": "v",
         "showlegend": true,
         "text": [
          2877,
          2684,
          2068,
          2043,
          1889,
          1839,
          1727,
          1569,
          1557,
          1451
         ],
         "textposition": "auto",
         "type": "bar",
         "x": [
          "LAFSP",
          "San Diego",
          "Riverside",
          "Central LA",
          "South LA",
          "Santa Ana",
          "Baldwin Park",
          "Santa Fe Springs",
          "San Jose",
          "East LA"
         ],
         "xaxis": "x",
         "y": [
          2877,
          2684,
          2068,
          2043,
          1889,
          1839,
          1727,
          1569,
          1557,
          1451
         ],
         "yaxis": "y"
        },
        {
         "alignmentgroup": "True",
         "hovertemplate": "Month of 2024=May<br>Reported Areas=%{x}<br>Frequency=%{text}<extra></extra>",
         "legendgroup": "May",
         "marker": {
          "color": "#FFA15A",
          "pattern": {
           "shape": ""
          }
         },
         "name": "May",
         "offsetgroup": "May",
         "orientation": "v",
         "showlegend": true,
         "text": [
          3017,
          2867,
          2492,
          2411,
          2294,
          2251,
          2048,
          1859,
          1829,
          1791
         ],
         "textposition": "auto",
         "type": "bar",
         "x": [
          "LAFSP",
          "San Diego",
          "Central LA",
          "Riverside",
          "South LA",
          "Santa Ana",
          "Baldwin Park",
          "San Jose",
          "East LA",
          "Santa Fe Springs"
         ],
         "xaxis": "x",
         "y": [
          3017,
          2867,
          2492,
          2411,
          2294,
          2251,
          2048,
          1859,
          1829,
          1791
         ],
         "yaxis": "y"
        },
        {
         "alignmentgroup": "True",
         "hovertemplate": "Month of 2024=June<br>Reported Areas=%{x}<br>Frequency=%{text}<extra></extra>",
         "legendgroup": "June",
         "marker": {
          "color": "#19d3f3",
          "pattern": {
           "shape": ""
          }
         },
         "name": "June",
         "offsetgroup": "June",
         "orientation": "v",
         "showlegend": true,
         "text": [
          3115,
          3017,
          2645,
          2425,
          2350,
          2341,
          2113,
          1962,
          1830,
          1729
         ],
         "textposition": "auto",
         "type": "bar",
         "x": [
          "San Diego",
          "LAFSP",
          "Central LA",
          "Riverside",
          "South LA",
          "Santa Ana",
          "Baldwin Park",
          "Santa Fe Springs",
          "East LA",
          "San Jose"
         ],
         "xaxis": "x",
         "y": [
          3115,
          3017,
          2645,
          2425,
          2350,
          2341,
          2113,
          1962,
          1830,
          1729
         ],
         "yaxis": "y"
        }
       ],
       "layout": {
        "barmode": "stack",
        "height": 600,
        "legend": {
         "title": {
          "text": "Month of 2024"
         },
         "tracegroupgap": 0
        },
        "template": {
         "data": {
          "bar": [
           {
            "error_x": {
             "color": "#2a3f5f"
            },
            "error_y": {
             "color": "#2a3f5f"
            },
            "marker": {
             "line": {
              "color": "#E5ECF6",
              "width": 0.5
             },
             "pattern": {
              "fillmode": "overlay",
              "size": 10,
              "solidity": 0.2
             }
            },
            "type": "bar"
           }
          ],
          "barpolar": [
           {
            "marker": {
             "line": {
              "color": "#E5ECF6",
              "width": 0.5
             },
             "pattern": {
              "fillmode": "overlay",
              "size": 10,
              "solidity": 0.2
             }
            },
            "type": "barpolar"
           }
          ],
          "carpet": [
           {
            "aaxis": {
             "endlinecolor": "#2a3f5f",
             "gridcolor": "white",
             "linecolor": "white",
             "minorgridcolor": "white",
             "startlinecolor": "#2a3f5f"
            },
            "baxis": {
             "endlinecolor": "#2a3f5f",
             "gridcolor": "white",
             "linecolor": "white",
             "minorgridcolor": "white",
             "startlinecolor": "#2a3f5f"
            },
            "type": "carpet"
           }
          ],
          "choropleth": [
           {
            "colorbar": {
             "outlinewidth": 0,
             "ticks": ""
            },
            "type": "choropleth"
           }
          ],
          "contour": [
           {
            "colorbar": {
             "outlinewidth": 0,
             "ticks": ""
            },
            "colorscale": [
             [
              0,
              "#0d0887"
             ],
             [
              0.1111111111111111,
              "#46039f"
             ],
             [
              0.2222222222222222,
              "#7201a8"
             ],
             [
              0.3333333333333333,
              "#9c179e"
             ],
             [
              0.4444444444444444,
              "#bd3786"
             ],
             [
              0.5555555555555556,
              "#d8576b"
             ],
             [
              0.6666666666666666,
              "#ed7953"
             ],
             [
              0.7777777777777778,
              "#fb9f3a"
             ],
             [
              0.8888888888888888,
              "#fdca26"
             ],
             [
              1,
              "#f0f921"
             ]
            ],
            "type": "contour"
           }
          ],
          "contourcarpet": [
           {
            "colorbar": {
             "outlinewidth": 0,
             "ticks": ""
            },
            "type": "contourcarpet"
           }
          ],
          "heatmap": [
           {
            "colorbar": {
             "outlinewidth": 0,
             "ticks": ""
            },
            "colorscale": [
             [
              0,
              "#0d0887"
             ],
             [
              0.1111111111111111,
              "#46039f"
             ],
             [
              0.2222222222222222,
              "#7201a8"
             ],
             [
              0.3333333333333333,
              "#9c179e"
             ],
             [
              0.4444444444444444,
              "#bd3786"
             ],
             [
              0.5555555555555556,
              "#d8576b"
             ],
             [
              0.6666666666666666,
              "#ed7953"
             ],
             [
              0.7777777777777778,
              "#fb9f3a"
             ],
             [
              0.8888888888888888,
              "#fdca26"
             ],
             [
              1,
              "#f0f921"
             ]
            ],
            "type": "heatmap"
           }
          ],
          "heatmapgl": [
           {
            "colorbar": {
             "outlinewidth": 0,
             "ticks": ""
            },
            "colorscale": [
             [
              0,
              "#0d0887"
             ],
             [
              0.1111111111111111,
              "#46039f"
             ],
             [
              0.2222222222222222,
              "#7201a8"
             ],
             [
              0.3333333333333333,
              "#9c179e"
             ],
             [
              0.4444444444444444,
              "#bd3786"
             ],
             [
              0.5555555555555556,
              "#d8576b"
             ],
             [
              0.6666666666666666,
              "#ed7953"
             ],
             [
              0.7777777777777778,
              "#fb9f3a"
             ],
             [
              0.8888888888888888,
              "#fdca26"
             ],
             [
              1,
              "#f0f921"
             ]
            ],
            "type": "heatmapgl"
           }
          ],
          "histogram": [
           {
            "marker": {
             "pattern": {
              "fillmode": "overlay",
              "size": 10,
              "solidity": 0.2
             }
            },
            "type": "histogram"
           }
          ],
          "histogram2d": [
           {
            "colorbar": {
             "outlinewidth": 0,
             "ticks": ""
            },
            "colorscale": [
             [
              0,
              "#0d0887"
             ],
             [
              0.1111111111111111,
              "#46039f"
             ],
             [
              0.2222222222222222,
              "#7201a8"
             ],
             [
              0.3333333333333333,
              "#9c179e"
             ],
             [
              0.4444444444444444,
              "#bd3786"
             ],
             [
              0.5555555555555556,
              "#d8576b"
             ],
             [
              0.6666666666666666,
              "#ed7953"
             ],
             [
              0.7777777777777778,
              "#fb9f3a"
             ],
             [
              0.8888888888888888,
              "#fdca26"
             ],
             [
              1,
              "#f0f921"
             ]
            ],
            "type": "histogram2d"
           }
          ],
          "histogram2dcontour": [
           {
            "colorbar": {
             "outlinewidth": 0,
             "ticks": ""
            },
            "colorscale": [
             [
              0,
              "#0d0887"
             ],
             [
              0.1111111111111111,
              "#46039f"
             ],
             [
              0.2222222222222222,
              "#7201a8"
             ],
             [
              0.3333333333333333,
              "#9c179e"
             ],
             [
              0.4444444444444444,
              "#bd3786"
             ],
             [
              0.5555555555555556,
              "#d8576b"
             ],
             [
              0.6666666666666666,
              "#ed7953"
             ],
             [
              0.7777777777777778,
              "#fb9f3a"
             ],
             [
              0.8888888888888888,
              "#fdca26"
             ],
             [
              1,
              "#f0f921"
             ]
            ],
            "type": "histogram2dcontour"
           }
          ],
          "mesh3d": [
           {
            "colorbar": {
             "outlinewidth": 0,
             "ticks": ""
            },
            "type": "mesh3d"
           }
          ],
          "parcoords": [
           {
            "line": {
             "colorbar": {
              "outlinewidth": 0,
              "ticks": ""
             }
            },
            "type": "parcoords"
           }
          ],
          "pie": [
           {
            "automargin": true,
            "type": "pie"
           }
          ],
          "scatter": [
           {
            "fillpattern": {
             "fillmode": "overlay",
             "size": 10,
             "solidity": 0.2
            },
            "type": "scatter"
           }
          ],
          "scatter3d": [
           {
            "line": {
             "colorbar": {
              "outlinewidth": 0,
              "ticks": ""
             }
            },
            "marker": {
             "colorbar": {
              "outlinewidth": 0,
              "ticks": ""
             }
            },
            "type": "scatter3d"
           }
          ],
          "scattercarpet": [
           {
            "marker": {
             "colorbar": {
              "outlinewidth": 0,
              "ticks": ""
             }
            },
            "type": "scattercarpet"
           }
          ],
          "scattergeo": [
           {
            "marker": {
             "colorbar": {
              "outlinewidth": 0,
              "ticks": ""
             }
            },
            "type": "scattergeo"
           }
          ],
          "scattergl": [
           {
            "marker": {
             "colorbar": {
              "outlinewidth": 0,
              "ticks": ""
             }
            },
            "type": "scattergl"
           }
          ],
          "scattermapbox": [
           {
            "marker": {
             "colorbar": {
              "outlinewidth": 0,
              "ticks": ""
             }
            },
            "type": "scattermapbox"
           }
          ],
          "scatterpolar": [
           {
            "marker": {
             "colorbar": {
              "outlinewidth": 0,
              "ticks": ""
             }
            },
            "type": "scatterpolar"
           }
          ],
          "scatterpolargl": [
           {
            "marker": {
             "colorbar": {
              "outlinewidth": 0,
              "ticks": ""
             }
            },
            "type": "scatterpolargl"
           }
          ],
          "scatterternary": [
           {
            "marker": {
             "colorbar": {
              "outlinewidth": 0,
              "ticks": ""
             }
            },
            "type": "scatterternary"
           }
          ],
          "surface": [
           {
            "colorbar": {
             "outlinewidth": 0,
             "ticks": ""
            },
            "colorscale": [
             [
              0,
              "#0d0887"
             ],
             [
              0.1111111111111111,
              "#46039f"
             ],
             [
              0.2222222222222222,
              "#7201a8"
             ],
             [
              0.3333333333333333,
              "#9c179e"
             ],
             [
              0.4444444444444444,
              "#bd3786"
             ],
             [
              0.5555555555555556,
              "#d8576b"
             ],
             [
              0.6666666666666666,
              "#ed7953"
             ],
             [
              0.7777777777777778,
              "#fb9f3a"
             ],
             [
              0.8888888888888888,
              "#fdca26"
             ],
             [
              1,
              "#f0f921"
             ]
            ],
            "type": "surface"
           }
          ],
          "table": [
           {
            "cells": {
             "fill": {
              "color": "#EBF0F8"
             },
             "line": {
              "color": "white"
             }
            },
            "header": {
             "fill": {
              "color": "#C8D4E3"
             },
             "line": {
              "color": "white"
             }
            },
            "type": "table"
           }
          ]
         },
         "layout": {
          "annotationdefaults": {
           "arrowcolor": "#2a3f5f",
           "arrowhead": 0,
           "arrowwidth": 1
          },
          "autotypenumbers": "strict",
          "coloraxis": {
           "colorbar": {
            "outlinewidth": 0,
            "ticks": ""
           }
          },
          "colorscale": {
           "diverging": [
            [
             0,
             "#8e0152"
            ],
            [
             0.1,
             "#c51b7d"
            ],
            [
             0.2,
             "#de77ae"
            ],
            [
             0.3,
             "#f1b6da"
            ],
            [
             0.4,
             "#fde0ef"
            ],
            [
             0.5,
             "#f7f7f7"
            ],
            [
             0.6,
             "#e6f5d0"
            ],
            [
             0.7,
             "#b8e186"
            ],
            [
             0.8,
             "#7fbc41"
            ],
            [
             0.9,
             "#4d9221"
            ],
            [
             1,
             "#276419"
            ]
           ],
           "sequential": [
            [
             0,
             "#0d0887"
            ],
            [
             0.1111111111111111,
             "#46039f"
            ],
            [
             0.2222222222222222,
             "#7201a8"
            ],
            [
             0.3333333333333333,
             "#9c179e"
            ],
            [
             0.4444444444444444,
             "#bd3786"
            ],
            [
             0.5555555555555556,
             "#d8576b"
            ],
            [
             0.6666666666666666,
             "#ed7953"
            ],
            [
             0.7777777777777778,
             "#fb9f3a"
            ],
            [
             0.8888888888888888,
             "#fdca26"
            ],
            [
             1,
             "#f0f921"
            ]
           ],
           "sequentialminus": [
            [
             0,
             "#0d0887"
            ],
            [
             0.1111111111111111,
             "#46039f"
            ],
            [
             0.2222222222222222,
             "#7201a8"
            ],
            [
             0.3333333333333333,
             "#9c179e"
            ],
            [
             0.4444444444444444,
             "#bd3786"
            ],
            [
             0.5555555555555556,
             "#d8576b"
            ],
            [
             0.6666666666666666,
             "#ed7953"
            ],
            [
             0.7777777777777778,
             "#fb9f3a"
            ],
            [
             0.8888888888888888,
             "#fdca26"
            ],
            [
             1,
             "#f0f921"
            ]
           ]
          },
          "colorway": [
           "#636efa",
           "#EF553B",
           "#00cc96",
           "#ab63fa",
           "#FFA15A",
           "#19d3f3",
           "#FF6692",
           "#B6E880",
           "#FF97FF",
           "#FECB52"
          ],
          "font": {
           "color": "#2a3f5f"
          },
          "geo": {
           "bgcolor": "white",
           "lakecolor": "white",
           "landcolor": "#E5ECF6",
           "showlakes": true,
           "showland": true,
           "subunitcolor": "white"
          },
          "hoverlabel": {
           "align": "left"
          },
          "hovermode": "closest",
          "mapbox": {
           "style": "light"
          },
          "paper_bgcolor": "white",
          "plot_bgcolor": "#E5ECF6",
          "polar": {
           "angularaxis": {
            "gridcolor": "white",
            "linecolor": "white",
            "ticks": ""
           },
           "bgcolor": "#E5ECF6",
           "radialaxis": {
            "gridcolor": "white",
            "linecolor": "white",
            "ticks": ""
           }
          },
          "scene": {
           "xaxis": {
            "backgroundcolor": "#E5ECF6",
            "gridcolor": "white",
            "gridwidth": 2,
            "linecolor": "white",
            "showbackground": true,
            "ticks": "",
            "zerolinecolor": "white"
           },
           "yaxis": {
            "backgroundcolor": "#E5ECF6",
            "gridcolor": "white",
            "gridwidth": 2,
            "linecolor": "white",
            "showbackground": true,
            "ticks": "",
            "zerolinecolor": "white"
           },
           "zaxis": {
            "backgroundcolor": "#E5ECF6",
            "gridcolor": "white",
            "gridwidth": 2,
            "linecolor": "white",
            "showbackground": true,
            "ticks": "",
            "zerolinecolor": "white"
           }
          },
          "shapedefaults": {
           "line": {
            "color": "#2a3f5f"
           }
          },
          "ternary": {
           "aaxis": {
            "gridcolor": "white",
            "linecolor": "white",
            "ticks": ""
           },
           "baxis": {
            "gridcolor": "white",
            "linecolor": "white",
            "ticks": ""
           },
           "bgcolor": "#E5ECF6",
           "caxis": {
            "gridcolor": "white",
            "linecolor": "white",
            "ticks": ""
           }
          },
          "title": {
           "x": 0.05
          },
          "xaxis": {
           "automargin": true,
           "gridcolor": "white",
           "linecolor": "white",
           "ticks": "",
           "title": {
            "standoff": 15
           },
           "zerolinecolor": "white",
           "zerolinewidth": 2
          },
          "yaxis": {
           "automargin": true,
           "gridcolor": "white",
           "linecolor": "white",
           "ticks": "",
           "title": {
            "standoff": 15
           },
           "zerolinecolor": "white",
           "zerolinewidth": 2
          }
         }
        },
        "title": {
         "text": "Breakdown of Top 10 Areas by Month"
        },
        "width": 1000,
        "xaxis": {
         "anchor": "y",
         "autorange": true,
         "categoryarray": [
          "LAFSP",
          "San Diego",
          "Central LA",
          "Riverside",
          "Santa Ana",
          "South LA",
          "Baldwin Park",
          "Santa Fe Springs",
          "San Jose",
          "East LA"
         ],
         "categoryorder": "array",
         "domain": [
          0,
          1
         ],
         "range": [
          -0.5,
          9.5
         ],
         "title": {
          "text": "Reported Areas"
         },
         "type": "category"
        },
        "yaxis": {
         "anchor": "x",
         "autorange": true,
         "domain": [
          0,
          1
         ],
         "range": [
          0,
          19218.947368421053
         ],
         "title": {
          "text": "Frequency"
         },
         "type": "linear"
        }
       }
      },
      "image/png": "[encoded data removed]",
      "text/html": [
       "<div>                            <div id=\"a5644fd3-0193-4498-913c-ed79981bbede\" class=\"plotly-graph-div\" style=\"height:600px; width:1000px;\"></div>            <script type=\"text/javascript\">                require([\"plotly\"], function(Plotly) {                    window.PLOTLYENV=window.PLOTLYENV || {};                                    if (document.getElementById(\"a5644fd3-0193-4498-913c-ed79981bbede\")) {                    Plotly.newPlot(                        \"a5644fd3-0193-4498-913c-ed79981bbede\",                        [{\"alignmentgroup\":\"True\",\"hovertemplate\":\"Month of 2024=January\\u003cbr\\u003eReported Areas=%{x}\\u003cbr\\u003eFrequency=%{text}\\u003cextra\\u003e\\u003c\\u002fextra\\u003e\",\"legendgroup\":\"January\",\"marker\":{\"color\":\"#636efa\",\"pattern\":{\"shape\":\"\"}},\"name\":\"January\",\"offsetgroup\":\"January\",\"orientation\":\"v\",\"showlegend\":true,\"text\":[3220.0,3022.0,2485.0,2279.0,2263.0,2174.0,1920.0,1850.0,1849.0,1771.0],\"textposition\":\"auto\",\"x\":[\"LAFSP\",\"San Diego\",\"Central LA\",\"Santa Ana\",\"South LA\",\"Riverside\",\"Baldwin Park\",\"Santa Fe Springs\",\"San Jose\",\"East LA\"],\"xaxis\":\"x\",\"y\":[3220,3022,2485,2279,2263,2174,1920,1850,1849,1771],\"yaxis\":\"y\",\"type\":\"bar\"},{\"alignmentgroup\":\"True\",\"hovertemplate\":\"Month of 2024=February\\u003cbr\\u003eReported Areas=%{x}\\u003cbr\\u003eFrequency=%{text}\\u003cextra\\u003e\\u003c\\u002fextra\\u003e\",\"legendgroup\":\"February\",\"marker\":{\"color\":\"#EF553B\",\"pattern\":{\"shape\":\"\"}},\"name\":\"February\",\"offsetgroup\":\"February\",\"orientation\":\"v\",\"showlegend\":true,\"text\":[3053.0,2731.0,2366.0,2252.0,2151.0,2149.0,2139.0,1839.0,1686.0,1544.0],\"textposition\":\"auto\",\"x\":[\"LAFSP\",\"San Diego\",\"Central LA\",\"Santa Ana\",\"Baldwin Park\",\"South LA\",\"Riverside\",\"San Jose\",\"Santa Fe Springs\",\"East LA\"],\"xaxis\":\"x\",\"y\":[3053,2731,2366,2252,2151,2149,2139,1839,1686,1544],\"yaxis\":\"y\",\"type\":\"bar\"},{\"alignmentgroup\":\"True\",\"hovertemplate\":\"Month of 2024=March\\u003cbr\\u003eReported Areas=%{x}\\u003cbr\\u003eFrequency=%{text}\\u003cextra\\u003e\\u003c\\u002fextra\\u003e\",\"legendgroup\":\"March\",\"marker\":{\"color\":\"#00cc96\",\"pattern\":{\"shape\":\"\"}},\"name\":\"March\",\"offsetgroup\":\"March\",\"orientation\":\"v\",\"showlegend\":true,\"text\":[3074.0,3064.0,2514.0,2395.0,2298.0,2297.0,2035.0,1817.0,1797.0,1756.0],\"textposition\":\"auto\",\"x\":[\"LAFSP\",\"San Diego\",\"Central LA\",\"Riverside\",\"Santa Ana\",\"South LA\",\"Baldwin Park\",\"Santa Fe Springs\",\"East LA\",\"San Jose\"],\"xaxis\":\"x\",\"y\":[3074,3064,2514,2395,2298,2297,2035,1817,1797,1756],\"yaxis\":\"y\",\"type\":\"bar\"},{\"alignmentgroup\":\"True\",\"hovertemplate\":\"Month of 2024=April\\u003cbr\\u003eReported Areas=%{x}\\u003cbr\\u003eFrequency=%{text}\\u003cextra\\u003e\\u003c\\u002fextra\\u003e\",\"legendgroup\":\"April\",\"marker\":{\"color\":\"#ab63fa\",\"pattern\":{\"shape\":\"\"}},\"name\":\"April\",\"offsetgroup\":\"April\",\"orientation\":\"v\",\"showlegend\":true,\"text\":[2877.0,2684.0,2068.0,2043.0,1889.0,1839.0,1727.0,1569.0,1557.0,1451.0],\"textposition\":\"auto\",\"x\":[\"LAFSP\",\"San Diego\",\"Riverside\",\"Central LA\",\"South LA\",\"Santa Ana\",\"Baldwin Park\",\"Santa Fe Springs\",\"San Jose\",\"East LA\"],\"xaxis\":\"x\",\"y\":[2877,2684,2068,2043,1889,1839,1727,1569,1557,1451],\"yaxis\":\"y\",\"type\":\"bar\"},{\"alignmentgroup\":\"True\",\"hovertemplate\":\"Month of 2024=May\\u003cbr\\u003eReported Areas=%{x}\\u003cbr\\u003eFrequency=%{text}\\u003cextra\\u003e\\u003c\\u002fextra\\u003e\",\"legendgroup\":\"May\",\"marker\":{\"color\":\"#FFA15A\",\"pattern\":{\"shape\":\"\"}},\"name\":\"May\",\"offsetgroup\":\"May\",\"orientation\":\"v\",\"showlegend\":true,\"text\":[3017.0,2867.0,2492.0,2411.0,2294.0,2251.0,2048.0,1859.0,1829.0,1791.0],\"textposition\":\"auto\",\"x\":[\"LAFSP\",\"San Diego\",\"Central LA\",\"Riverside\",\"South LA\",\"Santa Ana\",\"Baldwin Park\",\"San Jose\",\"East LA\",\"Santa Fe Springs\"],\"xaxis\":\"x\",\"y\":[3017,2867,2492,2411,2294,2251,2048,1859,1829,1791],\"yaxis\":\"y\",\"type\":\"bar\"},{\"alignmentgroup\":\"True\",\"hovertemplate\":\"Month of 2024=June\\u003cbr\\u003eReported Areas=%{x}\\u003cbr\\u003eFrequency=%{text}\\u003cextra\\u003e\\u003c\\u002fextra\\u003e\",\"legendgroup\":\"June\",\"marker\":{\"color\":\"#19d3f3\",\"pattern\":{\"shape\":\"\"}},\"name\":\"June\",\"offsetgroup\":\"June\",\"orientation\":\"v\",\"showlegend\":true,\"text\":[3115.0,3017.0,2645.0,2425.0,2350.0,2341.0,2113.0,1962.0,1830.0,1729.0],\"textposition\":\"auto\",\"x\":[\"San Diego\",\"LAFSP\",\"Central LA\",\"Riverside\",\"South LA\",\"Santa Ana\",\"Baldwin Park\",\"Santa Fe Springs\",\"East LA\",\"San Jose\"],\"xaxis\":\"x\",\"y\":[3115,3017,2645,2425,2350,2341,2113,1962,1830,1729],\"yaxis\":\"y\",\"type\":\"bar\"}],                        {\"template\":{\"data\":{\"histogram2dcontour\":[{\"type\":\"histogram2dcontour\",\"colorbar\":{\"outlinewidth\":0,\"ticks\":\"\"},\"colorscale\":[[0.0,\"#0d0887\"],[0.1111111111111111,\"#46039f\"],[0.2222222222222222,\"#7201a8\"],[0.3333333333333333,\"#9c179e\"],[0.4444444444444444,\"#bd3786\"],[0.5555555555555556,\"#d8576b\"],[0.6666666666666666,\"#ed7953\"],[0.7777777777777778,\"#fb9f3a\"],[0.8888888888888888,\"#fdca26\"],[1.0,\"#f0f921\"]]}],\"choropleth\":[{\"type\":\"choropleth\",\"colorbar\":{\"outlinewidth\":0,\"ticks\":\"\"}}],\"histogram2d\":[{\"type\":\"histogram2d\",\"colorbar\":{\"outlinewidth\":0,\"ticks\":\"\"},\"colorscale\":[[0.0,\"#0d0887\"],[0.1111111111111111,\"#46039f\"],[0.2222222222222222,\"#7201a8\"],[0.3333333333333333,\"#9c179e\"],[0.4444444444444444,\"#bd3786\"],[0.5555555555555556,\"#d8576b\"],[0.6666666666666666,\"#ed7953\"],[0.7777777777777778,\"#fb9f3a\"],[0.8888888888888888,\"#fdca26\"],[1.0,\"#f0f921\"]]}],\"heatmap\":[{\"type\":\"heatmap\",\"colorbar\":{\"outlinewidth\":0,\"ticks\":\"\"},\"colorscale\":[[0.0,\"#0d0887\"],[0.1111111111111111,\"#46039f\"],[0.2222222222222222,\"#7201a8\"],[0.3333333333333333,\"#9c179e\"],[0.4444444444444444,\"#bd3786\"],[0.5555555555555556,\"#d8576b\"],[0.6666666666666666,\"#ed7953\"],[0.7777777777777778,\"#fb9f3a\"],[0.8888888888888888,\"#fdca26\"],[1.0,\"#f0f921\"]]}],\"heatmapgl\":[{\"type\":\"heatmapgl\",\"colorbar\":{\"outlinewidth\":0,\"ticks\":\"\"},\"colorscale\":[[0.0,\"#0d0887\"],[0.1111111111111111,\"#46039f\"],[0.2222222222222222,\"#7201a8\"],[0.3333333333333333,\"#9c179e\"],[0.4444444444444444,\"#bd3786\"],[0.5555555555555556,\"#d8576b\"],[0.6666666666666666,\"#ed7953\"],[0.7777777777777778,\"#fb9f3a\"],[0.8888888888888888,\"#fdca26\"],[1.0,\"#f0f921\"]]}],\"contourcarpet\":[{\"type\":\"contourcarpet\",\"colorbar\":{\"outlinewidth\":0,\"ticks\":\"\"}}],\"contour\":[{\"type\":\"contour\",\"colorbar\":{\"outlinewidth\":0,\"ticks\":\"\"},\"colorscale\":[[0.0,\"#0d0887\"],[0.1111111111111111,\"#46039f\"],[0.2222222222222222,\"#7201a8\"],[0.3333333333333333,\"#9c179e\"],[0.4444444444444444,\"#bd3786\"],[0.5555555555555556,\"#d8576b\"],[0.6666666666666666,\"#ed7953\"],[0.7777777777777778,\"#fb9f3a\"],[0.8888888888888888,\"#fdca26\"],[1.0,\"#f0f921\"]]}],\"surface\":[{\"type\":\"surface\",\"colorbar\":{\"outlinewidth\":0,\"ticks\":\"\"},\"colorscale\":[[0.0,\"#0d0887\"],[0.1111111111111111,\"#46039f\"],[0.2222222222222222,\"#7201a8\"],[0.3333333333333333,\"#9c179e\"],[0.4444444444444444,\"#bd3786\"],[0.5555555555555556,\"#d8576b\"],[0.6666666666666666,\"#ed7953\"],[0.7777777777777778,\"#fb9f3a\"],[0.8888888888888888,\"#fdca26\"],[1.0,\"#f0f921\"]]}],\"mesh3d\":[{\"type\":\"mesh3d\",\"colorbar\":{\"outlinewidth\":0,\"ticks\":\"\"}}],\"scatter\":[{\"fillpattern\":{\"fillmode\":\"overlay\",\"size\":10,\"solidity\":0.2},\"type\":\"scatter\"}],\"parcoords\":[{\"type\":\"parcoords\",\"line\":{\"colorbar\":{\"outlinewidth\":0,\"ticks\":\"\"}}}],\"scatterpolargl\":[{\"type\":\"scatterpolargl\",\"marker\":{\"colorbar\":{\"outlinewidth\":0,\"ticks\":\"\"}}}],\"bar\":[{\"error_x\":{\"color\":\"#2a3f5f\"},\"error_y\":{\"color\":\"#2a3f5f\"},\"marker\":{\"line\":{\"color\":\"#E5ECF6\",\"width\":0.5},\"pattern\":{\"fillmode\":\"overlay\",\"size\":10,\"solidity\":0.2}},\"type\":\"bar\"}],\"scattergeo\":[{\"type\":\"scattergeo\",\"marker\":{\"colorbar\":{\"outlinewidth\":0,\"ticks\":\"\"}}}],\"scatterpolar\":[{\"type\":\"scatterpolar\",\"marker\":{\"colorbar\":{\"outlinewidth\":0,\"ticks\":\"\"}}}],\"histogram\":[{\"marker\":{\"pattern\":{\"fillmode\":\"overlay\",\"size\":10,\"solidity\":0.2}},\"type\":\"histogram\"}],\"scattergl\":[{\"type\":\"scattergl\",\"marker\":{\"colorbar\":{\"outlinewidth\":0,\"ticks\":\"\"}}}],\"scatter3d\":[{\"type\":\"scatter3d\",\"line\":{\"colorbar\":{\"outlinewidth\":0,\"ticks\":\"\"}},\"marker\":{\"colorbar\":{\"outlinewidth\":0,\"ticks\":\"\"}}}],\"scattermapbox\":[{\"type\":\"scattermapbox\",\"marker\":{\"colorbar\":{\"outlinewidth\":0,\"ticks\":\"\"}}}],\"scatterternary\":[{\"type\":\"scatterternary\",\"marker\":{\"colorbar\":{\"outlinewidth\":0,\"ticks\":\"\"}}}],\"scattercarpet\":[{\"type\":\"scattercarpet\",\"marker\":{\"colorbar\":{\"outlinewidth\":0,\"ticks\":\"\"}}}],\"carpet\":[{\"aaxis\":{\"endlinecolor\":\"#2a3f5f\",\"gridcolor\":\"white\",\"linecolor\":\"white\",\"minorgridcolor\":\"white\",\"startlinecolor\":\"#2a3f5f\"},\"baxis\":{\"endlinecolor\":\"#2a3f5f\",\"gridcolor\":\"white\",\"linecolor\":\"white\",\"minorgridcolor\":\"white\",\"startlinecolor\":\"#2a3f5f\"},\"type\":\"carpet\"}],\"table\":[{\"cells\":{\"fill\":{\"color\":\"#EBF0F8\"},\"line\":{\"color\":\"white\"}},\"header\":{\"fill\":{\"color\":\"#C8D4E3\"},\"line\":{\"color\":\"white\"}},\"type\":\"table\"}],\"barpolar\":[{\"marker\":{\"line\":{\"color\":\"#E5ECF6\",\"width\":0.5},\"pattern\":{\"fillmode\":\"overlay\",\"size\":10,\"solidity\":0.2}},\"type\":\"barpolar\"}],\"pie\":[{\"automargin\":true,\"type\":\"pie\"}]},\"layout\":{\"autotypenumbers\":\"strict\",\"colorway\":[\"#636efa\",\"#EF553B\",\"#00cc96\",\"#ab63fa\",\"#FFA15A\",\"#19d3f3\",\"#FF6692\",\"#B6E880\",\"#FF97FF\",\"#FECB52\"],\"font\":{\"color\":\"#2a3f5f\"},\"hovermode\":\"closest\",\"hoverlabel\":{\"align\":\"left\"},\"paper_bgcolor\":\"white\",\"plot_bgcolor\":\"#E5ECF6\",\"polar\":{\"bgcolor\":\"#E5ECF6\",\"angularaxis\":{\"gridcolor\":\"white\",\"linecolor\":\"white\",\"ticks\":\"\"},\"radialaxis\":{\"gridcolor\":\"white\",\"linecolor\":\"white\",\"ticks\":\"\"}},\"ternary\":{\"bgcolor\":\"#E5ECF6\",\"aaxis\":{\"gridcolor\":\"white\",\"linecolor\":\"white\",\"ticks\":\"\"},\"baxis\":{\"gridcolor\":\"white\",\"linecolor\":\"white\",\"ticks\":\"\"},\"caxis\":{\"gridcolor\":\"white\",\"linecolor\":\"white\",\"ticks\":\"\"}},\"coloraxis\":{\"colorbar\":{\"outlinewidth\":0,\"ticks\":\"\"}},\"colorscale\":{\"sequential\":[[0.0,\"#0d0887\"],[0.1111111111111111,\"#46039f\"],[0.2222222222222222,\"#7201a8\"],[0.3333333333333333,\"#9c179e\"],[0.4444444444444444,\"#bd3786\"],[0.5555555555555556,\"#d8576b\"],[0.6666666666666666,\"#ed7953\"],[0.7777777777777778,\"#fb9f3a\"],[0.8888888888888888,\"#fdca26\"],[1.0,\"#f0f921\"]],\"sequentialminus\":[[0.0,\"#0d0887\"],[0.1111111111111111,\"#46039f\"],[0.2222222222222222,\"#7201a8\"],[0.3333333333333333,\"#9c179e\"],[0.4444444444444444,\"#bd3786\"],[0.5555555555555556,\"#d8576b\"],[0.6666666666666666,\"#ed7953\"],[0.7777777777777778,\"#fb9f3a\"],[0.8888888888888888,\"#fdca26\"],[1.0,\"#f0f921\"]],\"diverging\":[[0,\"#8e0152\"],[0.1,\"#c51b7d\"],[0.2,\"#de77ae\"],[0.3,\"#f1b6da\"],[0.4,\"#fde0ef\"],[0.5,\"#f7f7f7\"],[0.6,\"#e6f5d0\"],[0.7,\"#b8e186\"],[0.8,\"#7fbc41\"],[0.9,\"#4d9221\"],[1,\"#276419\"]]},\"xaxis\":{\"gridcolor\":\"white\",\"linecolor\":\"white\",\"ticks\":\"\",\"title\":{\"standoff\":15},\"zerolinecolor\":\"white\",\"automargin\":true,\"zerolinewidth\":2},\"yaxis\":{\"gridcolor\":\"white\",\"linecolor\":\"white\",\"ticks\":\"\",\"title\":{\"standoff\":15},\"zerolinecolor\":\"white\",\"automargin\":true,\"zerolinewidth\":2},\"scene\":{\"xaxis\":{\"backgroundcolor\":\"#E5ECF6\",\"gridcolor\":\"white\",\"linecolor\":\"white\",\"showbackground\":true,\"ticks\":\"\",\"zerolinecolor\":\"white\",\"gridwidth\":2},\"yaxis\":{\"backgroundcolor\":\"#E5ECF6\",\"gridcolor\":\"white\",\"linecolor\":\"white\",\"showbackground\":true,\"ticks\":\"\",\"zerolinecolor\":\"white\",\"gridwidth\":2},\"zaxis\":{\"backgroundcolor\":\"#E5ECF6\",\"gridcolor\":\"white\",\"linecolor\":\"white\",\"showbackground\":true,\"ticks\":\"\",\"zerolinecolor\":\"white\",\"gridwidth\":2}},\"shapedefaults\":{\"line\":{\"color\":\"#2a3f5f\"}},\"annotationdefaults\":{\"arrowcolor\":\"#2a3f5f\",\"arrowhead\":0,\"arrowwidth\":1},\"geo\":{\"bgcolor\":\"white\",\"landcolor\":\"#E5ECF6\",\"subunitcolor\":\"white\",\"showland\":true,\"showlakes\":true,\"lakecolor\":\"white\"},\"title\":{\"x\":0.05},\"mapbox\":{\"style\":\"light\"}}},\"xaxis\":{\"anchor\":\"y\",\"domain\":[0.0,1.0],\"title\":{\"text\":\"Reported Areas\"},\"categoryorder\":\"array\",\"categoryarray\":[\"LAFSP\",\"San Diego\",\"Central LA\",\"Riverside\",\"Santa Ana\",\"South LA\",\"Baldwin Park\",\"Santa Fe Springs\",\"San Jose\",\"East LA\"]},\"yaxis\":{\"anchor\":\"x\",\"domain\":[0.0,1.0],\"title\":{\"text\":\"Frequency\"}},\"legend\":{\"title\":{\"text\":\"Month of 2024\"},\"tracegroupgap\":0},\"title\":{\"text\":\"Breakdown of Top 10 Areas by Month\"},\"barmode\":\"stack\",\"height\":600,\"width\":1000},                        {\"responsive\": true}                    ).then(function(){\n",
       "                            \n",
       "var gd = document.getElementById('a5644fd3-0193-4498-913c-ed79981bbede');\n",
       "var x = new MutationObserver(function (mutations, observer) {{\n",
       "        var display = window.getComputedStyle(gd).display;\n",
       "        if (!display || display === 'none') {{\n",
       "            console.log([gd, 'removed!']);\n",
       "            Plotly.purge(gd);\n",
       "            observer.disconnect();\n",
       "        }}\n",
       "}});\n",
       "\n",
       "// Listen for the removal of the full notebook cells\n",
       "var notebookContainer = gd.closest('#notebook-container');\n",
       "if (notebookContainer) {{\n",
       "    x.observe(notebookContainer, {childList: true});\n",
       "}}\n",
       "\n",
       "// Listen for the clearing of the current output cell\n",
       "var outputEl = gd.closest('.output');\n",
       "if (outputEl) {{\n",
       "    x.observe(outputEl, {childList: true});\n",
       "}}\n",
       "\n",
       "                        })                };                });            </script>        </div>"
      ]
     },
     "metadata": {},
     "output_type": "display_data"
    }
   ],
   "source": [
    "fig_incident = px.bar(df, x=\"Reported Areas\", \n",
    "                      y=\"Frequency\", \n",
    "                      color=\"Month of 2024\", \n",
    "                      barmode=\"stack\", \n",
    "                      text=\"Frequency\",\n",
    "                      category_orders={\"Month of 2024\": [\"January\",\"February\",\"March\",\"April\",\"May\",\"June\"],\n",
    "                                      \"Reported Areas\" : [\"LAFSP\",\"San Diego\",\"Central LA\", \"Riverside\", \"Santa Ana\", \"South LA\", \"Baldwin Park\", \"Santa Fe Springs\", \"San Jose\", \"East LA\"]},\n",
    "                      width=1000, \n",
    "                      height=600,\n",
    "                      title = \"Breakdown of Top 10 Areas by Month\")\n",
    "\n",
    "\n",
    "\n",
    "\n",
    "fig_incident.write_image(\"Breakdown of Top 10 Areas by Month.png\",format='png',engine='kaleido')\n",
    "\n",
    "fig_incident.show()"
   ]
  },
  {
   "cell_type": "code",
   "execution_count": null,
   "id": "f7327716-1230-4d39-a32f-1c571b49c372",
   "metadata": {},
   "outputs": [],
   "source": []
  },
  {
   "cell_type": "code",
   "execution_count": null,
   "id": "1d319e37-cebf-4b6f-8746-6a06efc012c6",
   "metadata": {},
   "outputs": [],
   "source": []
  }
 ],
 "metadata": {
  "kernelspec": {
   "display_name": "Python 3 (ipykernel)",
   "language": "python",
   "name": "python3"
  },
  "language_info": {
   "codemirror_mode": {
    "name": "ipython",
    "version": 3
   },
   "file_extension": ".py",
   "mimetype": "text/x-python",
   "name": "python",
   "nbconvert_exporter": "python",
   "pygments_lexer": "ipython3",
   "version": "3.12.3"
  }
 },
 "nbformat": 4,
 "nbformat_minor": 5
}
